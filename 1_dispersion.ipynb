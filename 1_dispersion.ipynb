{
 "cells": [
  {
   "cell_type": "code",
   "execution_count": 1,
   "metadata": {},
   "outputs": [
    {
     "name": "stdout",
     "output_type": "stream",
     "text": [
      "Requirement already satisfied: yfinance in /Users/bob/opt/anaconda3/lib/python3.9/site-packages (0.2.41)\n",
      "Requirement already satisfied: pandas>=1.3.0 in /Users/bob/opt/anaconda3/lib/python3.9/site-packages (from yfinance) (1.4.4)\n",
      "Requirement already satisfied: numpy>=1.16.5 in /Users/bob/opt/anaconda3/lib/python3.9/site-packages (from yfinance) (1.26.3)\n",
      "Requirement already satisfied: requests>=2.31 in /Users/bob/opt/anaconda3/lib/python3.9/site-packages (from yfinance) (2.32.3)\n",
      "Requirement already satisfied: multitasking>=0.0.7 in /Users/bob/opt/anaconda3/lib/python3.9/site-packages (from yfinance) (0.0.11)\n",
      "Requirement already satisfied: lxml>=4.9.1 in /Users/bob/opt/anaconda3/lib/python3.9/site-packages (from yfinance) (4.9.1)\n",
      "Requirement already satisfied: platformdirs>=2.0.0 in /Users/bob/opt/anaconda3/lib/python3.9/site-packages (from yfinance) (3.11.0)\n",
      "Requirement already satisfied: pytz>=2022.5 in /Users/bob/opt/anaconda3/lib/python3.9/site-packages (from yfinance) (2024.1)\n",
      "Requirement already satisfied: frozendict>=2.3.4 in /Users/bob/opt/anaconda3/lib/python3.9/site-packages (from yfinance) (2.4.4)\n",
      "Requirement already satisfied: peewee>=3.16.2 in /Users/bob/opt/anaconda3/lib/python3.9/site-packages (from yfinance) (3.17.6)\n",
      "Requirement already satisfied: beautifulsoup4>=4.11.1 in /Users/bob/opt/anaconda3/lib/python3.9/site-packages (from yfinance) (4.11.1)\n",
      "Requirement already satisfied: html5lib>=1.1 in /Users/bob/opt/anaconda3/lib/python3.9/site-packages (from yfinance) (1.1)\n",
      "Requirement already satisfied: soupsieve>1.2 in /Users/bob/opt/anaconda3/lib/python3.9/site-packages (from beautifulsoup4>=4.11.1->yfinance) (2.3.1)\n",
      "Requirement already satisfied: six>=1.9 in /Users/bob/opt/anaconda3/lib/python3.9/site-packages (from html5lib>=1.1->yfinance) (1.16.0)\n",
      "Requirement already satisfied: webencodings in /Users/bob/opt/anaconda3/lib/python3.9/site-packages (from html5lib>=1.1->yfinance) (0.5.1)\n",
      "Requirement already satisfied: python-dateutil>=2.8.1 in /Users/bob/opt/anaconda3/lib/python3.9/site-packages (from pandas>=1.3.0->yfinance) (2.8.2)\n",
      "Requirement already satisfied: charset-normalizer<4,>=2 in /Users/bob/opt/anaconda3/lib/python3.9/site-packages (from requests>=2.31->yfinance) (2.0.4)\n",
      "Requirement already satisfied: idna<4,>=2.5 in /Users/bob/opt/anaconda3/lib/python3.9/site-packages (from requests>=2.31->yfinance) (3.3)\n",
      "Requirement already satisfied: urllib3<3,>=1.21.1 in /Users/bob/opt/anaconda3/lib/python3.9/site-packages (from requests>=2.31->yfinance) (2.2.2)\n",
      "Requirement already satisfied: certifi>=2017.4.17 in /Users/bob/opt/anaconda3/lib/python3.9/site-packages (from requests>=2.31->yfinance) (2022.9.24)\n",
      "\n",
      "\u001b[1m[\u001b[0m\u001b[34;49mnotice\u001b[0m\u001b[1;39;49m]\u001b[0m\u001b[39;49m A new release of pip is available: \u001b[0m\u001b[31;49m23.3.1\u001b[0m\u001b[39;49m -> \u001b[0m\u001b[32;49m24.2\u001b[0m\n",
      "\u001b[1m[\u001b[0m\u001b[34;49mnotice\u001b[0m\u001b[1;39;49m]\u001b[0m\u001b[39;49m To update, run: \u001b[0m\u001b[32;49mpip install --upgrade pip\u001b[0m\n",
      "Note: you may need to restart the kernel to use updated packages.\n"
     ]
    }
   ],
   "source": [
    "%pip install yfinance --upgrade --no-cache-dir"
   ]
  },
  {
   "cell_type": "code",
   "execution_count": 2,
   "metadata": {},
   "outputs": [
    {
     "data": {
      "text/plain": [
       "\" \\n\\nDispersion in Financial Data Analysis: Understanding Risk and Returns\\n\\nDispersion measures how spread out a dataset is. In finance, it's crucial for\\nunderstanding and quantifying risk, helping to gauge return volatility.\\n\\nInterpreting Dispersion in Financial Returns:\\n- Tight Dispersion: Returns clustered around the mean suggest lower volatility and risk.\\n- Wide Dispersion: Spread out returns indicate higher volatility, higher risk, \\n  but also potential for higher returns.\\n\\nLimitations and Considerations:\\n1. Sample vs. Population: Sample data may not perfectly represent the entire population.\\n2. Time Series Nature: Mean and variance can change over time in financial data.\\n3. Outliers and Fat Tails: Extreme events occur more frequently than predicted \\n   by normal distribution, which standard measures might underestimate. \\n   \\n  \""
      ]
     },
     "execution_count": 2,
     "metadata": {},
     "output_type": "execute_result"
    }
   ],
   "source": [
    "\"\"\" \n",
    "\n",
    "Dispersion in Financial Data Analysis: Understanding Risk and Returns\n",
    "\n",
    "Dispersion measures how spread out a dataset is. In finance, it's crucial for\n",
    "understanding and quantifying risk, helping to gauge return volatility.\n",
    "\n",
    "Interpreting Dispersion in Financial Returns:\n",
    "- Tight Dispersion: Returns clustered around the mean suggest lower volatility and risk.\n",
    "- Wide Dispersion: Spread out returns indicate higher volatility, higher risk, \n",
    "  but also potential for higher returns.\n",
    "\n",
    "Limitations and Considerations:\n",
    "1. Sample vs. Population: Sample data may not perfectly represent the entire population.\n",
    "2. Time Series Nature: Mean and variance can change over time in financial data.\n",
    "3. Outliers and Fat Tails: Extreme events occur more frequently than predicted \n",
    "   by normal distribution, which standard measures might underestimate. \n",
    "   \n",
    "  \"\"\""
   ]
  },
  {
   "cell_type": "code",
   "execution_count": 3,
   "metadata": {},
   "outputs": [],
   "source": [
    "import yfinance as yf\n",
    "import numpy as np"
   ]
  },
  {
   "cell_type": "code",
   "execution_count": 4,
   "metadata": {},
   "outputs": [
    {
     "name": "stderr",
     "output_type": "stream",
     "text": [
      "[*********************100%%**********************]  1 of 1 completed\n"
     ]
    }
   ],
   "source": [
    "df = yf.download(\"AAPL\", start=\"2024-01-01\", end=\"2024-08-01\", interval=\"1d\")"
   ]
  },
  {
   "cell_type": "code",
   "execution_count": 5,
   "metadata": {},
   "outputs": [
    {
     "data": {
      "text/html": [
       "<div>\n",
       "<style scoped>\n",
       "    .dataframe tbody tr th:only-of-type {\n",
       "        vertical-align: middle;\n",
       "    }\n",
       "\n",
       "    .dataframe tbody tr th {\n",
       "        vertical-align: top;\n",
       "    }\n",
       "\n",
       "    .dataframe thead th {\n",
       "        text-align: right;\n",
       "    }\n",
       "</style>\n",
       "<table border=\"1\" class=\"dataframe\">\n",
       "  <thead>\n",
       "    <tr style=\"text-align: right;\">\n",
       "      <th></th>\n",
       "      <th>Open</th>\n",
       "      <th>High</th>\n",
       "      <th>Low</th>\n",
       "      <th>Close</th>\n",
       "      <th>Adj Close</th>\n",
       "      <th>Volume</th>\n",
       "    </tr>\n",
       "    <tr>\n",
       "      <th>Date</th>\n",
       "      <th></th>\n",
       "      <th></th>\n",
       "      <th></th>\n",
       "      <th></th>\n",
       "      <th></th>\n",
       "      <th></th>\n",
       "    </tr>\n",
       "  </thead>\n",
       "  <tbody>\n",
       "    <tr>\n",
       "      <th>2024-01-02</th>\n",
       "      <td>187.149994</td>\n",
       "      <td>188.440002</td>\n",
       "      <td>183.889999</td>\n",
       "      <td>185.639999</td>\n",
       "      <td>184.938217</td>\n",
       "      <td>82488700</td>\n",
       "    </tr>\n",
       "    <tr>\n",
       "      <th>2024-01-03</th>\n",
       "      <td>184.220001</td>\n",
       "      <td>185.880005</td>\n",
       "      <td>183.429993</td>\n",
       "      <td>184.250000</td>\n",
       "      <td>183.553482</td>\n",
       "      <td>58414500</td>\n",
       "    </tr>\n",
       "    <tr>\n",
       "      <th>2024-01-04</th>\n",
       "      <td>182.149994</td>\n",
       "      <td>183.089996</td>\n",
       "      <td>180.880005</td>\n",
       "      <td>181.910004</td>\n",
       "      <td>181.222321</td>\n",
       "      <td>71983600</td>\n",
       "    </tr>\n",
       "    <tr>\n",
       "      <th>2024-01-05</th>\n",
       "      <td>181.990005</td>\n",
       "      <td>182.759995</td>\n",
       "      <td>180.169998</td>\n",
       "      <td>181.179993</td>\n",
       "      <td>180.495087</td>\n",
       "      <td>62303300</td>\n",
       "    </tr>\n",
       "    <tr>\n",
       "      <th>2024-01-08</th>\n",
       "      <td>182.089996</td>\n",
       "      <td>185.600006</td>\n",
       "      <td>181.500000</td>\n",
       "      <td>185.559998</td>\n",
       "      <td>184.858521</td>\n",
       "      <td>59144500</td>\n",
       "    </tr>\n",
       "  </tbody>\n",
       "</table>\n",
       "</div>"
      ],
      "text/plain": [
       "                  Open        High         Low       Close   Adj Close  \\\n",
       "Date                                                                     \n",
       "2024-01-02  187.149994  188.440002  183.889999  185.639999  184.938217   \n",
       "2024-01-03  184.220001  185.880005  183.429993  184.250000  183.553482   \n",
       "2024-01-04  182.149994  183.089996  180.880005  181.910004  181.222321   \n",
       "2024-01-05  181.990005  182.759995  180.169998  181.179993  180.495087   \n",
       "2024-01-08  182.089996  185.600006  181.500000  185.559998  184.858521   \n",
       "\n",
       "              Volume  \n",
       "Date                  \n",
       "2024-01-02  82488700  \n",
       "2024-01-03  58414500  \n",
       "2024-01-04  71983600  \n",
       "2024-01-05  62303300  \n",
       "2024-01-08  59144500  "
      ]
     },
     "execution_count": 5,
     "metadata": {},
     "output_type": "execute_result"
    }
   ],
   "source": [
    "df.head()"
   ]
  },
  {
   "cell_type": "markdown",
   "metadata": {},
   "source": [
    "#### Mean Absolute Deviation (MAD) :  Average distance between each data point and the mean\n"
   ]
  },
  {
   "cell_type": "code",
   "execution_count": 6,
   "metadata": {},
   "outputs": [
    {
     "name": "stdout",
     "output_type": "stream",
     "text": [
      "Mean:  189.87048141270466\n",
      "Range:  69.9625244140625\n",
      "MAD:  14.959539549819143\n"
     ]
    }
   ],
   "source": [
    "X = df['Adj Close']\n",
    "\n",
    "mean = np.mean(X)\n",
    "\n",
    "range = np.ptp(X)\n",
    "\n",
    "distance_from_mean = X - mean\n",
    "\n",
    "mad = np.mean(np.abs(distance_from_mean))\n",
    "\n",
    "\n",
    "print(\"Mean: \", mean)\n",
    "print(\"Range: \", range)\n",
    "print(\"MAD: \", mad)\n"
   ]
  },
  {
   "cell_type": "markdown",
   "metadata": {},
   "source": [
    "### Variance and Standard Deviation"
   ]
  },
  {
   "cell_type": "markdown",
   "metadata": {},
   "source": [
    "Varience(σ2) : The average of the squared deviations around the mean\n",
    "Standard deviation :  Square root of mean"
   ]
  },
  {
   "cell_type": "code",
   "execution_count": 7,
   "metadata": {},
   "outputs": [
    {
     "name": "stdout",
     "output_type": "stream",
     "text": [
      "Variance:  352.3251098914602\n",
      "Standard Deviation:  18.77032524735414\n"
     ]
    }
   ],
   "source": [
    "print ( \"Variance: \", np.var(X) )\n",
    "print ( \"Standard Deviation: \", np.std(X) )"
   ]
  },
  {
   "cell_type": "markdown",
   "metadata": {},
   "source": [
    "### Chebyshev's inequality"
   ]
  },
  {
   "cell_type": "markdown",
   "metadata": {},
   "source": [
    "Chebyshev's inequality provides an upper bound on the probability of deviation of a random variable from its mean"
   ]
  },
  {
   "cell_type": "markdown",
   "metadata": {},
   "source": [
    "The proportion of samples within k standard deviations of the mean is at least 1 - 1/k² for all k > 1."
   ]
  },
  {
   "cell_type": "code",
   "execution_count": 8,
   "metadata": {},
   "outputs": [
    {
     "name": "stdout",
     "output_type": "stream",
     "text": [
      "Observations within 1.25 stds of mean: 118\n",
      "Confimation :  0.8082191780821918 > 0.36\n"
     ]
    }
   ],
   "source": [
    "k = 1.25\n",
    "distance_from_mean = k * np.std(X)\n",
    "\n",
    "l = [x for x in X if abs(x - mean) <= distance_from_mean]\n",
    "\n",
    "print ('Observations within', k, 'stds of mean:', len(l))\n",
    "\n",
    "print ('Confimation : ', float(len(l))/len(X), '>', 1 - 1/k**2)"
   ]
  },
  {
   "cell_type": "markdown",
   "metadata": {},
   "source": [
    "#### Semivariance and Semideviation\n",
    "Semivariance is a measure of downside risk in an investment\n",
    "\n",
    "These measure focus on negative deviations from a target return, unlike variance and standard deviation which treat upside and downside volatility equally"
   ]
  },
  {
   "cell_type": "code",
   "execution_count": 9,
   "metadata": {},
   "outputs": [
    {
     "name": "stdout",
     "output_type": "stream",
     "text": [
      "Semi Variance:  199.2346074894633\n",
      "Semi Deviation:  14.115048972265852\n"
     ]
    }
   ],
   "source": [
    "lows = np.array ( [x for x in X if x <= mean ] )\n",
    "\n",
    "semi_variance = np.sum( (lows - mean) ** 2 ) / len(lows)\n",
    "\n",
    "semi_deviation = np.sqrt(semi_variance)\n",
    "\n",
    "print ('Semi Variance: ', semi_variance)\n",
    "print ('Semi Deviation: ', semi_deviation)\n",
    "\n"
   ]
  },
  {
   "cell_type": "markdown",
   "metadata": {},
   "source": [
    " Target semi variance  -  Avg of distances that fall below a target value"
   ]
  },
  {
   "cell_type": "code",
   "execution_count": 10,
   "metadata": {},
   "outputs": [
    {
     "name": "stdout",
     "output_type": "stream",
     "text": [
      "Semi Variance:  458.9942243639715\n",
      "Semi Deviation:  21.424150493402802\n"
     ]
    }
   ],
   "source": [
    "target = 200\n",
    "\n",
    "lows = np.array ( [x for x in X if x <= target ] )\n",
    "\n",
    "semi_variance = np.sum( (lows - target) ** 2 ) / len(lows)\n",
    "\n",
    "semi_deviation = np.sqrt(semi_variance)\n",
    "\n",
    "print ('Semi Variance: ', semi_variance)\n",
    "print ('Semi Deviation: ', semi_deviation)"
   ]
  }
 ],
 "metadata": {
  "kernelspec": {
   "display_name": "base",
   "language": "python",
   "name": "python3"
  },
  "language_info": {
   "codemirror_mode": {
    "name": "ipython",
    "version": 3
   },
   "file_extension": ".py",
   "mimetype": "text/x-python",
   "name": "python",
   "nbconvert_exporter": "python",
   "pygments_lexer": "ipython3",
   "version": "3.9.13"
  }
 },
 "nbformat": 4,
 "nbformat_minor": 2
}

{
 "cells": [
  {
   "cell_type": "markdown",
   "metadata": {},
   "source": [
    "# Anomaly dectection"
   ]
  },
  {
   "cell_type": "code",
   "execution_count": 1,
   "metadata": {},
   "outputs": [],
   "source": [
    "import numpy as np\n",
    "from scipy import stats"
   ]
  },
  {
   "cell_type": "code",
   "execution_count": 2,
   "metadata": {},
   "outputs": [],
   "source": [
    "# generate sample data\n",
    "\n",
    "np.random.seed(42)\n",
    "\n",
    "data = np.concatenate([ np.random.normal(0 ,1 , 100) , np.random.normal( 5 , 1 , 20) ])"
   ]
  },
  {
   "cell_type": "code",
   "execution_count": 3,
   "metadata": {},
   "outputs": [],
   "source": [
    "\"\"\"\n",
    "\n",
    "Z_score is the number of standard deviations from the mean\n",
    "\n",
    "in the code below , where data is more than 3 standard deviations away from the mean\n",
    "\n",
    "\"\"\"\n",
    "\n",
    "z_scores = np.abs( stats.zscore( data ))\n",
    "\n",
    "z_scores_outliers = np.where( z_scores > 3 )"
   ]
  },
  {
   "cell_type": "code",
   "execution_count": 4,
   "metadata": {},
   "outputs": [
    {
     "data": {
      "text/plain": [
       "array([113])"
      ]
     },
     "execution_count": 4,
     "metadata": {},
     "output_type": "execute_result"
    }
   ],
   "source": [
    "z_scores_outliers[0]"
   ]
  },
  {
   "cell_type": "code",
   "execution_count": 5,
   "metadata": {},
   "outputs": [
    {
     "data": {
      "text/plain": [
       "(array([101, 102, 103, 104, 105, 106, 107, 108, 109, 111, 112, 113, 114,\n",
       "        115, 116, 117, 118, 119]),)"
      ]
     },
     "execution_count": 5,
     "metadata": {},
     "output_type": "execute_result"
    }
   ],
   "source": [
    "# another method for outlier detection is using interquatile range\n",
    "\n",
    "\"\"\"\n",
    "\n",
    "data points below Q1 - 1.5 * IQR or above Q3 + 1.5 * IQR.\n",
    "\n",
    "\n",
    "\"\"\"\n",
    "\n",
    "Q1 = np.percentile( data , 25)\n",
    "Q3 = np.percentile ( data , 75)\n",
    "\n",
    "IQR =  Q3 - Q1\n",
    "\n",
    "lower_bound = (Q1 - 1.5) * IQR\n",
    "upper_bound =   ( Q3 + 1.5  ) * IQR\n",
    "\n",
    "irq_outliers = np.where( ( data < lower_bound)  | ( data > upper_bound) )\n",
    "\n",
    "irq_outliers\n"
   ]
  },
  {
   "cell_type": "markdown",
   "metadata": {},
   "source": [
    "Z-score method is more useful if data is normally distributed and is more sensitive to skewness and might misidentify points as outliers."
   ]
  },
  {
   "cell_type": "markdown",
   "metadata": {},
   "source": []
  }
 ],
 "metadata": {
  "kernelspec": {
   "display_name": "base",
   "language": "python",
   "name": "python3"
  },
  "language_info": {
   "codemirror_mode": {
    "name": "ipython",
    "version": 3
   },
   "file_extension": ".py",
   "mimetype": "text/x-python",
   "name": "python",
   "nbconvert_exporter": "python",
   "pygments_lexer": "ipython3",
   "version": "3.9.13"
  }
 },
 "nbformat": 4,
 "nbformat_minor": 2
}
